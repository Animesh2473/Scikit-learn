{
 "cells": [
  {
   "cell_type": "markdown",
   "id": "c9dd6375-d5ee-4cfb-89d5-dd1193c83865",
   "metadata": {},
   "source": [
    "## 4. Evaluating a machine learning model\n",
    "\n",
    "Three ways to evaluate Scikit-learn models/estimators:\n",
    "\n",
    "        1. Estimator's built- in `score()` method\n",
    "        2. The `scoring` parameater\n",
    "        3. Problem specifit metric functions\n",
    "\n",
    "you can read more about these here: https://scikit-learn.org/stable/modules/model_evaluation.html"
   ]
  },
  {
   "cell_type": "markdown",
   "id": "b2d0327e-8538-4026-b69b-6d031bdf5044",
   "metadata": {},
   "source": [
    "###  4.1 Evaluating model with score method"
   ]
  },
  {
   "cell_type": "code",
   "execution_count": 1,
   "id": "1fb1ac56-502d-495e-a884-b5cbc6ec7339",
   "metadata": {},
   "outputs": [],
   "source": [
    "import numpy as np\n",
    "import pandas as pd\n",
    "import matplotlib.pyplot as plt\n",
    "from sklearn.datasets import fetch_california_housing\n",
    "\n",
    "housing = fetch_california_housing()\n",
    "housing_df = pd.DataFrame(housing[\"data\"],columns=housing[\"feature_names\"])\n",
    "housing_df[\"target\"] = housing[\"target\"]\n",
    "\n",
    "heart_disease = pd.read_csv(\"heart-disease.csv\")"
   ]
  },
  {
   "cell_type": "code",
   "execution_count": 2,
   "id": "536eaac2-2e62-4f89-9c24-b2e4c4bbbe28",
   "metadata": {},
   "outputs": [],
   "source": [
    "from sklearn.model_selection import train_test_split\n",
    "from sklearn.model_selection import cross_val_score\n",
    "from sklearn.ensemble import RandomForestRegressor\n",
    "\n",
    "np.random.seed(42)\n",
    "\n",
    "\n",
    "x= housing_df.drop(\"target\",axis = 1)\n",
    "y = housing_df[\"target\"]\n",
    "\n",
    "x_train,x_test,y_train,y_test = train_test_split(x,y,test_size=0.2) # Nomal train & split\n",
    "\n",
    "model = RandomForestRegressor(n_estimators=80)\n",
    "\n",
    "model.fit(x_train,y_train);"
   ]
  },
  {
   "cell_type": "code",
   "execution_count": 3,
   "id": "807c9ae6-9fbc-48d3-a8b4-e640d6827dfe",
   "metadata": {},
   "outputs": [
    {
     "data": {
      "text/plain": [
       "0.8063285573441384"
      ]
     },
     "execution_count": 3,
     "metadata": {},
     "output_type": "execute_result"
    }
   ],
   "source": [
    "score = model.score(x_test,y_test) # cross validation here cv is each fold therefore it given us f diffrent score\n",
    "score"
   ]
  },
  {
   "cell_type": "code",
   "execution_count": 4,
   "id": "931acbd2-8a0f-46c0-a15c-ced294c8dd7d",
   "metadata": {},
   "outputs": [
    {
     "data": {
      "text/plain": [
       "array([0.49082605, 0.70282919, 0.74070244, 0.61802749, 0.68193114])"
      ]
     },
     "execution_count": 4,
     "metadata": {},
     "output_type": "execute_result"
    }
   ],
   "source": [
    "cross_val_score(model,x,y,cv=5)"
   ]
  },
  {
   "cell_type": "code",
   "execution_count": 5,
   "id": "73a0e573-be73-4b07-9384-6e68a7944c8d",
   "metadata": {},
   "outputs": [],
   "source": [
    "cross_val = np.mean(cross_val_score(model,x,y,cv=5))"
   ]
  },
  {
   "cell_type": "code",
   "execution_count": 6,
   "id": "cde6b002-18ab-4ded-9900-82aebbb86e24",
   "metadata": {},
   "outputs": [
    {
     "data": {
      "text/plain": [
       "(0.8063285573441384, 0.6472925565471923)"
      ]
     },
     "execution_count": 6,
     "metadata": {},
     "output_type": "execute_result"
    }
   ],
   "source": [
    "score,cross_val #Compare the two"
   ]
  },
  {
   "cell_type": "code",
   "execution_count": 7,
   "id": "2abd3188-a1c2-4de1-826a-9d82b852ad71",
   "metadata": {},
   "outputs": [
    {
     "data": {
      "text/plain": [
       "array([0.52590548, 0.70206252, 0.74205126, 0.62168657, 0.68068656])"
      ]
     },
     "execution_count": 7,
     "metadata": {},
     "output_type": "execute_result"
    }
   ],
   "source": [
    "# Scoring parameater set to None by default\n",
    "cross_val_score(model,x,y,cv=5, scoring=None) # scoring parameater means we use default parameater that is .score() we cant't define our,s"
   ]
  },
  {
   "cell_type": "markdown",
   "id": "145df9c4-629a-4ca9-b06e-c82c4b6320ae",
   "metadata": {},
   "source": [
    "### 4.2.1 Clasification model evaluation metrics\n",
    "\n",
    "1.Accuracy\n",
    "\n",
    "2.Area undr RoC curve\n",
    "\n",
    "3.Confusion matrix\n",
    "\n",
    "4.Classlfication report"
   ]
  },
  {
   "cell_type": "markdown",
   "id": "7e611691-0266-4b71-b15a-95cf0dd901a6",
   "metadata": {},
   "source": [
    "#### 1.Accuracy"
   ]
  },
  {
   "cell_type": "code",
   "execution_count": 24,
   "id": "9b4b605e-3d3b-413c-85aa-cf9b804b1c68",
   "metadata": {},
   "outputs": [],
   "source": [
    "from sklearn.ensemble import RandomForestClassifier\n",
    "from sklearn.model_selection import train_test_split\n",
    "\n",
    "np.random.seed(42)\n",
    "\n",
    "\n",
    "x = heart_disease.drop(\"target\",axis=1)\n",
    "y = heart_disease[\"target\"]\n",
    "\n",
    "x_test,x_train,y_test,y_train = train_test_split(x,y,test_size=0.2)\n",
    "\n",
    "clf = RandomForestClassifier()\n",
    "\n",
    "clf.fit(x_train,y_train)\n",
    "    \n",
    "clf.score(x_test,y_test)\n",
    "\n",
    "cross_val_score = cross_val_score(clf,x,y,cv=5)"
   ]
  },
  {
   "cell_type": "code",
   "execution_count": 26,
   "id": "2033985f-a5eb-475c-b0f7-4d23508bbdc7",
   "metadata": {},
   "outputs": [
    {
     "name": "stdout",
     "output_type": "stream",
     "text": [
      "Heart Disease Classifier cross validation Accuracy :81.16%\n"
     ]
    }
   ],
   "source": [
    "print(f\"Heart Disease Classifier cross validation Accuracy :{np.mean(cross_val_score)*100:.2f}%\")"
   ]
  },
  {
   "cell_type": "markdown",
   "id": "2e0c3a26-8d54-4c5d-a784-ee817d2d6dce",
   "metadata": {},
   "source": [
    "**Area under the recevier Oprating Characteristic curve (AUC/ROC)**\n",
    "\n",
    "* Area under curve (AUC)\n",
    "* Roc Curve\n",
    "\n",
    "ROC curves are a comparision of a model's true positive rate (tpr) v/s a models false positive rate(fpr).\n",
    "\n",
    "* True positive = model predicts 1 when is 1.\n",
    "* False positive = model predicts 1 when truth is 0.\n",
    "* True negative = moddel predicts 0 when truth is 0.\n",
    "* False negative = model predicts 0 whwn truth is 1."
   ]
  },
  {
   "cell_type": "code",
   "execution_count": 42,
   "id": "a56d23ab-f20a-443f-96c3-b867686f55db",
   "metadata": {},
   "outputs": [
    {
     "data": {
      "text/plain": [
       "array([[0.07, 0.93],\n",
       "       [0.81, 0.19],\n",
       "       [0.21, 0.79],\n",
       "       [0.19, 0.81],\n",
       "       [0.7 , 0.3 ],\n",
       "       [0.3 , 0.7 ],\n",
       "       [0.28, 0.72],\n",
       "       [0.39, 0.61],\n",
       "       [0.15, 0.85],\n",
       "       [0.04, 0.96]])"
      ]
     },
     "execution_count": 42,
     "metadata": {},
     "output_type": "execute_result"
    }
   ],
   "source": [
    "y_proba = clf.predict_proba(x_test)\n",
    "y_proba[:10]"
   ]
  },
  {
   "cell_type": "code",
   "execution_count": 43,
   "id": "3e4bfb61-198e-4d6e-93cc-cfad7cc7854f",
   "metadata": {},
   "outputs": [
    {
     "data": {
      "text/plain": [
       "array([0.93, 0.19, 0.79, 0.81, 0.3 , 0.7 , 0.72, 0.61, 0.85, 0.96, 0.82,\n",
       "       0.52, 0.91, 0.19, 0.97, 0.86, 0.63, 0.35, 0.55, 0.88, 0.11, 0.59,\n",
       "       0.77, 0.67, 0.37, 0.07, 0.7 , 0.65, 0.69, 0.73, 0.98, 0.96, 0.92,\n",
       "       0.65, 0.88, 0.51, 0.32, 1.  , 0.52, 0.8 , 0.93, 0.77, 0.3 , 0.59,\n",
       "       0.99, 0.88, 0.79, 0.51, 0.13, 0.99, 0.98, 0.06, 0.69, 0.79, 0.43,\n",
       "       0.67, 1.  , 0.63, 0.25, 0.14, 0.12, 0.18, 0.56, 0.14, 0.13, 0.87,\n",
       "       0.2 , 0.46, 0.74, 0.66, 0.87, 0.44, 0.66, 0.89, 0.75, 0.6 , 0.76,\n",
       "       0.24, 0.29, 0.09, 0.1 , 0.69, 0.88, 0.99, 0.91, 0.12, 0.22, 0.14,\n",
       "       0.06, 0.87, 1.  , 0.83, 0.7 , 0.54, 0.87, 0.97, 0.45, 0.98, 0.82,\n",
       "       0.23, 0.72, 0.52, 0.54, 0.11, 0.82, 0.98, 0.85, 0.73, 1.  , 0.13,\n",
       "       0.95, 0.33, 0.63, 0.35, 0.1 , 0.29, 0.97, 0.37, 0.58, 0.81, 0.84,\n",
       "       0.66, 0.7 , 0.42, 0.67, 0.54, 0.33, 0.75, 0.88, 0.87, 0.74, 0.86,\n",
       "       0.92, 0.78, 0.32, 0.64, 0.19, 0.56, 0.89, 0.59, 0.84, 0.75, 0.75,\n",
       "       0.2 , 0.65, 0.97, 1.  , 0.56, 0.98, 0.12, 0.82, 0.25, 0.83, 0.87,\n",
       "       0.96, 0.71, 0.83, 0.66, 0.59, 0.96, 0.88, 0.44, 1.  , 0.64, 0.97,\n",
       "       0.71, 0.51, 0.78, 0.62, 0.42, 0.64, 0.89, 0.17, 0.24, 0.7 , 0.58,\n",
       "       0.42, 0.35, 0.55, 0.7 , 0.97, 0.9 , 0.26, 0.17, 0.81, 0.04, 0.83,\n",
       "       0.68, 0.03, 0.7 , 0.19, 0.18, 0.03, 0.93, 0.67, 0.99, 0.91, 0.88,\n",
       "       1.  , 0.56, 0.51, 0.56, 0.38, 0.49, 0.52, 0.69, 0.92, 0.1 , 0.11,\n",
       "       0.94, 0.5 , 0.11, 0.97, 0.95, 0.  , 0.64, 0.17, 0.08, 0.28, 0.87,\n",
       "       0.77, 0.48, 0.16, 0.98, 0.98, 0.13, 0.02, 0.11, 0.94, 0.92, 0.32,\n",
       "       0.84, 0.87, 0.15, 0.74, 0.88, 0.54, 0.85, 0.85, 0.54, 0.35, 0.89])"
      ]
     },
     "execution_count": 43,
     "metadata": {},
     "output_type": "execute_result"
    }
   ],
   "source": [
    "y_proba_score = y_proba[:,1]\n",
    "y_proba_score"
   ]
  },
  {
   "cell_type": "code",
   "execution_count": 44,
   "id": "94b5a82c-1bc9-419d-94b5-8d8221eb911e",
   "metadata": {},
   "outputs": [],
   "source": [
    "from sklearn.metrics import roc_curve\n",
    "\n",
    "fpr,tpr,tresholds = roc_curve(y_test,y_proba_score)"
   ]
  },
  {
   "cell_type": "code",
   "execution_count": 45,
   "id": "6b998b7c-5ef7-4c77-9932-e59eb73b1da5",
   "metadata": {},
   "outputs": [
    {
     "data": {
      "image/png": "[encoded data removed]",
      "text/plain": [
       "<Figure size 640x480 with 1 Axes>"
      ]
     },
     "metadata": {},
     "output_type": "display_data"
    }
   ],
   "source": [
    "def plot_roc_curve(fpr,tpr):\n",
    "    plt.plot(fpr,tpr,color='orange',label='ROC')\n",
    "    plt.plot([0,1],[0,1],color='darkblue',linestyle='--',label='Guessing')\n",
    "    \n",
    "    plt.xlabel(\"False positive Rate (fpr) --->\")\n",
    "    plt.ylabel(\"True positive Rate (tpr) --->\")\n",
    "    plt.title(\"Reciver Opreating Characteristic (ROC) Curve\")\n",
    "    plt.legend()\n",
    "    plt.show()\n",
    "\n",
    "\n",
    "plot_roc_curve(fpr,tpr) "
   ]
  },
  {
   "cell_type": "code",
   "execution_count": 46,
   "id": "41a4588e-728a-4917-9958-3da1834495b3",
   "metadata": {},
   "outputs": [
    {
     "data": {
      "text/plain": [
       "0.8834241567220804"
      ]
     },
     "execution_count": 46,
     "metadata": {},
     "output_type": "execute_result"
    }
   ],
   "source": [
    "from sklearn.metrics import roc_auc_score\n",
    "\n",
    "float(roc_auc_score(y_test,y_proba_score))"
   ]
  },
  {
   "cell_type": "code",
   "execution_count": 47,
   "id": "b3ed73cc-cc2c-4e62-97b2-27ad8e3d6182",
   "metadata": {},
   "outputs": [
    {
     "data": {
      "image/png": "[encoded data removed]",
      "text/plain": [
       "<Figure size 640x480 with 1 Axes>"
      ]
     },
     "metadata": {},
     "output_type": "display_data"
    }
   ],
   "source": [
    "fpr,tpr,treshold = roc_curve(y_test,y_test)\n",
    "\n",
    "plot_roc_curve(fpr,tpr)"
   ]
  },
  {
   "cell_type": "code",
   "execution_count": 48,
   "id": "2f7705a3-8d4a-46b1-9ff6-d0d718d4605d",
   "metadata": {},
   "outputs": [
    {
     "data": {
      "text/plain": [
       "1.0"
      ]
     },
     "execution_count": 48,
     "metadata": {},
     "output_type": "execute_result"
    }
   ],
   "source": [
    "float(roc_auc_score(y_test,y_test))"
   ]
  },
  {
   "cell_type": "markdown",
   "id": "f32cef71-a0d9-4e49-8c5d-93a4af40fa38",
   "metadata": {},
   "source": [
    "**Confusion matrix**\n",
    "\n",
    "A confusion matrix is a quick way to compare the lables a model predicts and the actual labels it was supposed to predict.\n",
    "\n",
    "\n",
    "In essence , giveing you the idea where the model is geting confused"
   ]
  },
  {
   "cell_type": "code",
   "execution_count": 50,
   "id": "c79a6cf7-e9f2-4cb1-8d47-b6f6e48ad9c4",
   "metadata": {},
   "outputs": [
    {
     "data": {
      "text/plain": [
       "array([[ 67,  42],\n",
       "       [  9, 124]], dtype=int64)"
      ]
     },
     "execution_count": 50,
     "metadata": {},
     "output_type": "execute_result"
    }
   ],
   "source": [
    "from sklearn.metrics import confusion_matrix\n",
    "\n",
    "y_preds = clf.predict(x_test)\n",
    "\n",
    "confusion_matrix(y_test,y_preds)"
   ]
  },
  {
   "cell_type": "code",
   "execution_count": 51,
   "id": "aa0c6aa1-aa38-4d80-a4ac-cc1f1fe72046",
   "metadata": {},
   "outputs": [
    {
     "data": {
      "text/html": [
       "<div>\n",
       "<style scoped>\n",
       "    .dataframe tbody tr th:only-of-type {\n",
       "        vertical-align: middle;\n",
       "    }\n",
       "\n",
       "    .dataframe tbody tr th {\n",
       "        vertical-align: top;\n",
       "    }\n",
       "\n",
       "    .dataframe thead th {\n",
       "        text-align: right;\n",
       "    }\n",
       "</style>\n",
       "<table border=\"1\" class=\"dataframe\">\n",
       "  <thead>\n",
       "    <tr style=\"text-align: right;\">\n",
       "      <th>col_0</th>\n",
       "      <th>0</th>\n",
       "      <th>1</th>\n",
       "    </tr>\n",
       "    <tr>\n",
       "      <th>target</th>\n",
       "      <th></th>\n",
       "      <th></th>\n",
       "    </tr>\n",
       "  </thead>\n",
       "  <tbody>\n",
       "    <tr>\n",
       "      <th>0</th>\n",
       "      <td>67</td>\n",
       "      <td>42</td>\n",
       "    </tr>\n",
       "    <tr>\n",
       "      <th>1</th>\n",
       "      <td>9</td>\n",
       "      <td>124</td>\n",
       "    </tr>\n",
       "  </tbody>\n",
       "</table>\n",
       "</div>"
      ],
      "text/plain": [
       "col_0    0    1\n",
       "target         \n",
       "0       67   42\n",
       "1        9  124"
      ]
     },
     "execution_count": 51,
     "metadata": {},
     "output_type": "execute_result"
    }
   ],
   "source": [
    "pd.crosstab(y_test,y_preds)"
   ]
  },
  {
   "cell_type": "code",
   "execution_count": 53,
   "id": "2018c625-72e0-4521-ac97-7da479b54912",
   "metadata": {},
   "outputs": [
    {
     "data": {
      "image/png": "[encoded data removed]",
      "text/plain": [
       "<Figure size 640x480 with 2 Axes>"
      ]
     },
     "metadata": {},
     "output_type": "display_data"
    }
   ],
   "source": [
    "import seaborn as sns\n",
    "\n",
    "con_mat = confusion_matrix(y_test,y_preds)\n",
    "\n",
    "sns.heatmap(con_mat)\n",
    "plt.plot();"
   ]
  },
  {
   "cell_type": "code",
   "execution_count": 54,
   "id": "ce97ae26-1ec4-4a42-959a-e3041c71552e",
   "metadata": {},
   "outputs": [
    {
     "data": {
      "text/plain": [
       "<sklearn.metrics._plot.confusion_matrix.ConfusionMatrixDisplay at 0x26ad39eb290>"
      ]
     },
     "execution_count": 54,
     "metadata": {},
     "output_type": "execute_result"
    },
    {
     "data": {
      "image/png": "[encoded data removed]",
      "text/plain": [
       "<Figure size 640x480 with 2 Axes>"
      ]
     },
     "metadata": {},
     "output_type": "display_data"
    }
   ],
   "source": [
    "from sklearn.metrics import ConfusionMatrixDisplay\n",
    "\n",
    "ConfusionMatrixDisplay.from_estimator(clf,x,y)"
   ]
  },
  {
   "cell_type": "code",
   "execution_count": 55,
   "id": "930ebed4-a4b0-4dde-8d6d-205c19a839dd",
   "metadata": {},
   "outputs": [
    {
     "data": {
      "text/plain": [
       "<sklearn.metrics._plot.confusion_matrix.ConfusionMatrixDisplay at 0x26ad3998260>"
      ]
     },
     "execution_count": 55,
     "metadata": {},
     "output_type": "execute_result"
    },
    {
     "data": {
      "image/png": "[encoded data removed]",
      "text/plain": [
       "<Figure size 640x480 with 2 Axes>"
      ]
     },
     "metadata": {},
     "output_type": "display_data"
    }
   ],
   "source": [
    "ConfusionMatrixDisplay.from_predictions(y_test,y_preds)"
   ]
  },
  {
   "cell_type": "markdown",
   "id": "2585f820-0ac9-4d4b-bcba-6cb8e52da928",
   "metadata": {},
   "source": [
    "### Classification report"
   ]
  },
  {
   "cell_type": "code",
   "execution_count": 58,
   "id": "3beea305-3f7a-4bb5-baf3-36634d9e8f84",
   "metadata": {},
   "outputs": [
    {
     "name": "stdout",
     "output_type": "stream",
     "text": [
      "              precision    recall  f1-score   support\n",
      "\n",
      "           0       0.88      0.61      0.72       109\n",
      "           1       0.75      0.93      0.83       133\n",
      "\n",
      "    accuracy                           0.79       242\n",
      "   macro avg       0.81      0.77      0.78       242\n",
      "weighted avg       0.81      0.79      0.78       242\n",
      "\n"
     ]
    }
   ],
   "source": [
    "from sklearn.metrics import classification_report\n",
    "\n",
    "print(classification_report(y_test,y_preds))"
   ]
  },
  {
   "cell_type": "markdown",
   "id": "2742aca5-898b-4bcc-92f0-5be711fd427a",
   "metadata": {},
   "source": [
    "## Regression model evaluation matrix"
   ]
  },
  {
   "cell_type": "markdown",
   "id": "ee9b057e-bb76-495a-9483-d2f5767d234a",
   "metadata": {},
   "source": [
    "### 4.2.2 Regression model evaluation metrics\n",
    "Model evaluation metrics documentation - https://scikit-learn.org/1.5/modules/model_evaluation.html \n",
    "\n",
    "The one's we're going to cover are:\n",
    "\n",
    "1. R^2 (pronounced r-requared) of coefficent of determination\n",
    "2. Mean absolute error (MAE)\n",
    "3. Mean square error (MSE)\n"
   ]
  },
  {
   "cell_type": "markdown",
   "id": "c1b968d5-efbe-4a2b-b347-88d4be9a9db9",
   "metadata": {},
   "source": [
    "### 4.2.2 Regression model evaluation metrics"
   ]
  },
  {
   "cell_type": "code",
   "execution_count": 82,
   "id": "6dee9cd7-68fa-4d20-8a47-0a3a2e57aa26",
   "metadata": {},
   "outputs": [],
   "source": [
    "from sklearn.ensemble import RandomForestRegressor\n",
    "\n",
    "np.random.seed(42)\n",
    "\n",
    "x = housing_df.drop(\"target\",axis=1)\n",
    "y = housing_df[\"target\"]\n",
    "\n",
    "x_train,x_test,y_train,y_test = train_test_split(x,y,test_size=0.2)\n",
    "\n",
    "model = RandomForestRegressor()\n",
    "\n",
    "model.fit(x_train,y_train)\n",
    "\n",
    "model.score(x_test,y_test)\n",
    "\n",
    "y_preds = model.predict(x_test)"
   ]
  },
  {
   "cell_type": "code",
   "execution_count": 83,
   "id": "053173b1-e5cf-4570-a7b3-8f2af65ea06c",
   "metadata": {},
   "outputs": [
    {
     "data": {
      "text/html": [
       "<div>\n",
       "<style scoped>\n",
       "    .dataframe tbody tr th:only-of-type {\n",
       "        vertical-align: middle;\n",
       "    }\n",
       "\n",
       "    .dataframe tbody tr th {\n",
       "        vertical-align: top;\n",
       "    }\n",
       "\n",
       "    .dataframe thead th {\n",
       "        text-align: right;\n",
       "    }\n",
       "</style>\n",
       "<table border=\"1\" class=\"dataframe\">\n",
       "  <thead>\n",
       "    <tr style=\"text-align: right;\">\n",
       "      <th></th>\n",
       "      <th>MedInc</th>\n",
       "      <th>HouseAge</th>\n",
       "      <th>AveRooms</th>\n",
       "      <th>AveBedrms</th>\n",
       "      <th>Population</th>\n",
       "      <th>AveOccup</th>\n",
       "      <th>Latitude</th>\n",
       "      <th>Longitude</th>\n",
       "      <th>target</th>\n",
       "    </tr>\n",
       "  </thead>\n",
       "  <tbody>\n",
       "    <tr>\n",
       "      <th>0</th>\n",
       "      <td>8.3252</td>\n",
       "      <td>41.0</td>\n",
       "      <td>6.984127</td>\n",
       "      <td>1.023810</td>\n",
       "      <td>322.0</td>\n",
       "      <td>2.555556</td>\n",
       "      <td>37.88</td>\n",
       "      <td>-122.23</td>\n",
       "      <td>4.526</td>\n",
       "    </tr>\n",
       "    <tr>\n",
       "      <th>1</th>\n",
       "      <td>8.3014</td>\n",
       "      <td>21.0</td>\n",
       "      <td>6.238137</td>\n",
       "      <td>0.971880</td>\n",
       "      <td>2401.0</td>\n",
       "      <td>2.109842</td>\n",
       "      <td>37.86</td>\n",
       "      <td>-122.22</td>\n",
       "      <td>3.585</td>\n",
       "    </tr>\n",
       "    <tr>\n",
       "      <th>2</th>\n",
       "      <td>7.2574</td>\n",
       "      <td>52.0</td>\n",
       "      <td>8.288136</td>\n",
       "      <td>1.073446</td>\n",
       "      <td>496.0</td>\n",
       "      <td>2.802260</td>\n",
       "      <td>37.85</td>\n",
       "      <td>-122.24</td>\n",
       "      <td>3.521</td>\n",
       "    </tr>\n",
       "    <tr>\n",
       "      <th>3</th>\n",
       "      <td>5.6431</td>\n",
       "      <td>52.0</td>\n",
       "      <td>5.817352</td>\n",
       "      <td>1.073059</td>\n",
       "      <td>558.0</td>\n",
       "      <td>2.547945</td>\n",
       "      <td>37.85</td>\n",
       "      <td>-122.25</td>\n",
       "      <td>3.413</td>\n",
       "    </tr>\n",
       "    <tr>\n",
       "      <th>4</th>\n",
       "      <td>3.8462</td>\n",
       "      <td>52.0</td>\n",
       "      <td>6.281853</td>\n",
       "      <td>1.081081</td>\n",
       "      <td>565.0</td>\n",
       "      <td>2.181467</td>\n",
       "      <td>37.85</td>\n",
       "      <td>-122.25</td>\n",
       "      <td>3.422</td>\n",
       "    </tr>\n",
       "  </tbody>\n",
       "</table>\n",
       "</div>"
      ],
      "text/plain": [
       "   MedInc  HouseAge  AveRooms  AveBedrms  Population  AveOccup  Latitude  \\\n",
       "0  8.3252      41.0  6.984127   1.023810       322.0  2.555556     37.88   \n",
       "1  8.3014      21.0  6.238137   0.971880      2401.0  2.109842     37.86   \n",
       "2  7.2574      52.0  8.288136   1.073446       496.0  2.802260     37.85   \n",
       "3  5.6431      52.0  5.817352   1.073059       558.0  2.547945     37.85   \n",
       "4  3.8462      52.0  6.281853   1.081081       565.0  2.181467     37.85   \n",
       "\n",
       "   Longitude  target  \n",
       "0    -122.23   4.526  \n",
       "1    -122.22   3.585  \n",
       "2    -122.24   3.521  \n",
       "3    -122.25   3.413  \n",
       "4    -122.25   3.422  "
      ]
     },
     "execution_count": 83,
     "metadata": {},
     "output_type": "execute_result"
    }
   ],
   "source": [
    "housing_df.head()"
   ]
  },
  {
   "cell_type": "code",
   "execution_count": 84,
   "id": "a229e17b-3d66-4dbc-b2bc-317cd588020f",
   "metadata": {},
   "outputs": [
    {
     "data": {
      "text/plain": [
       "array([2.0550031, 2.0550031, 2.0550031, 2.0550031, 2.0550031, 2.0550031,\n",
       "       2.0550031, 2.0550031, 2.0550031, 2.0550031])"
      ]
     },
     "execution_count": 84,
     "metadata": {},
     "output_type": "execute_result"
    }
   ],
   "source": [
    "from sklearn.metrics import r2_score,mean_absolute_error,mean_squared_error\n",
    "\n",
    "y_test_mean = np.full(len(y_test),y_test.mean())\n",
    "\n",
    "y_test_mean[:10]"
   ]
  },
  {
   "cell_type": "code",
   "execution_count": 85,
   "id": "1ddc8792-f791-4c68-beb9-3bf4a02929a6",
   "metadata": {},
   "outputs": [
    {
     "data": {
      "text/plain": [
       "0.0"
      ]
     },
     "execution_count": 85,
     "metadata": {},
     "output_type": "execute_result"
    }
   ],
   "source": [
    "r2_score(y_test,y_test_mean)\n",
    "# If you model is good then you should get score of 0 or negative it is considered goood 😊"
   ]
  },
  {
   "cell_type": "code",
   "execution_count": 86,
   "id": "dbfd05ac-0b31-47c7-a5bc-dc14fdc24345",
   "metadata": {},
   "outputs": [
    {
     "data": {
      "text/html": [
       "<div>\n",
       "<style scoped>\n",
       "    .dataframe tbody tr th:only-of-type {\n",
       "        vertical-align: middle;\n",
       "    }\n",
       "\n",
       "    .dataframe tbody tr th {\n",
       "        vertical-align: top;\n",
       "    }\n",
       "\n",
       "    .dataframe thead th {\n",
       "        text-align: right;\n",
       "    }\n",
       "</style>\n",
       "<table border=\"1\" class=\"dataframe\">\n",
       "  <thead>\n",
       "    <tr style=\"text-align: right;\">\n",
       "      <th></th>\n",
       "      <th>Actual Values</th>\n",
       "      <th>Predicted values</th>\n",
       "      <th>Diffrences</th>\n",
       "    </tr>\n",
       "  </thead>\n",
       "  <tbody>\n",
       "    <tr>\n",
       "      <th>20046</th>\n",
       "      <td>0.47700</td>\n",
       "      <td>0.493900</td>\n",
       "      <td>0.016900</td>\n",
       "    </tr>\n",
       "    <tr>\n",
       "      <th>3024</th>\n",
       "      <td>0.45800</td>\n",
       "      <td>0.754940</td>\n",
       "      <td>0.296940</td>\n",
       "    </tr>\n",
       "    <tr>\n",
       "      <th>15663</th>\n",
       "      <td>5.00001</td>\n",
       "      <td>4.928596</td>\n",
       "      <td>-0.071414</td>\n",
       "    </tr>\n",
       "    <tr>\n",
       "      <th>20484</th>\n",
       "      <td>2.18600</td>\n",
       "      <td>2.540240</td>\n",
       "      <td>0.354240</td>\n",
       "    </tr>\n",
       "    <tr>\n",
       "      <th>9814</th>\n",
       "      <td>2.78000</td>\n",
       "      <td>2.331760</td>\n",
       "      <td>-0.448240</td>\n",
       "    </tr>\n",
       "  </tbody>\n",
       "</table>\n",
       "</div>"
      ],
      "text/plain": [
       "       Actual Values  Predicted values  Diffrences\n",
       "20046        0.47700          0.493900    0.016900\n",
       "3024         0.45800          0.754940    0.296940\n",
       "15663        5.00001          4.928596   -0.071414\n",
       "20484        2.18600          2.540240    0.354240\n",
       "9814         2.78000          2.331760   -0.448240"
      ]
     },
     "execution_count": 86,
     "metadata": {},
     "output_type": "execute_result"
    }
   ],
   "source": [
    "df = pd.DataFrame({\"Actual Values\":y_test,\"Predicted values\":y_preds})\n",
    "\n",
    "df[\"Diffrences\"] = df[\"Predicted values\"]-df[\"Actual Values\"]\n",
    "df.head()"
   ]
  },
  {
   "cell_type": "code",
   "execution_count": 87,
   "id": "b8bb702a-287a-401f-ae71-be0ee7f55382",
   "metadata": {},
   "outputs": [
    {
     "data": {
      "text/plain": [
       "0.32656738464147306"
      ]
     },
     "execution_count": 87,
     "metadata": {},
     "output_type": "execute_result"
    }
   ],
   "source": [
    "MAE =np.abs(df.Diffrences).mean()\n",
    "MAE"
   ]
  },
  {
   "cell_type": "code",
   "execution_count": 89,
   "id": "c03e719a-851b-4167-a4ff-5d339199bd16",
   "metadata": {},
   "outputs": [
    {
     "data": {
      "text/plain": [
       "0.32656738464147306"
      ]
     },
     "execution_count": 89,
     "metadata": {},
     "output_type": "execute_result"
    }
   ],
   "source": [
    "mae = mean_absolute_error(y_test,y_preds)\n",
    "mae"
   ]
  },
  {
   "cell_type": "code",
   "execution_count": 90,
   "id": "ee4577ac-7eb7-4726-8b4d-4572f7fa511e",
   "metadata": {},
   "outputs": [
    {
     "data": {
      "text/html": [
       "<div>\n",
       "<style scoped>\n",
       "    .dataframe tbody tr th:only-of-type {\n",
       "        vertical-align: middle;\n",
       "    }\n",
       "\n",
       "    .dataframe tbody tr th {\n",
       "        vertical-align: top;\n",
       "    }\n",
       "\n",
       "    .dataframe thead th {\n",
       "        text-align: right;\n",
       "    }\n",
       "</style>\n",
       "<table border=\"1\" class=\"dataframe\">\n",
       "  <thead>\n",
       "    <tr style=\"text-align: right;\">\n",
       "      <th></th>\n",
       "      <th>Actual Values</th>\n",
       "      <th>Predicted values</th>\n",
       "      <th>Diffrences</th>\n",
       "    </tr>\n",
       "  </thead>\n",
       "  <tbody>\n",
       "    <tr>\n",
       "      <th>20046</th>\n",
       "      <td>0.47700</td>\n",
       "      <td>0.493900</td>\n",
       "      <td>0.016900</td>\n",
       "    </tr>\n",
       "    <tr>\n",
       "      <th>3024</th>\n",
       "      <td>0.45800</td>\n",
       "      <td>0.754940</td>\n",
       "      <td>0.296940</td>\n",
       "    </tr>\n",
       "    <tr>\n",
       "      <th>15663</th>\n",
       "      <td>5.00001</td>\n",
       "      <td>4.928596</td>\n",
       "      <td>-0.071414</td>\n",
       "    </tr>\n",
       "    <tr>\n",
       "      <th>20484</th>\n",
       "      <td>2.18600</td>\n",
       "      <td>2.540240</td>\n",
       "      <td>0.354240</td>\n",
       "    </tr>\n",
       "    <tr>\n",
       "      <th>9814</th>\n",
       "      <td>2.78000</td>\n",
       "      <td>2.331760</td>\n",
       "      <td>-0.448240</td>\n",
       "    </tr>\n",
       "  </tbody>\n",
       "</table>\n",
       "</div>"
      ],
      "text/plain": [
       "       Actual Values  Predicted values  Diffrences\n",
       "20046        0.47700          0.493900    0.016900\n",
       "3024         0.45800          0.754940    0.296940\n",
       "15663        5.00001          4.928596   -0.071414\n",
       "20484        2.18600          2.540240    0.354240\n",
       "9814         2.78000          2.331760   -0.448240"
      ]
     },
     "execution_count": 90,
     "metadata": {},
     "output_type": "execute_result"
    }
   ],
   "source": [
    "df = pd.DataFrame({\"Actual Values\":y_test,\"Predicted values\":y_preds})\n",
    "\n",
    "df[\"Diffrences\"] = df[\"Predicted values\"]-df[\"Actual Values\"]\n",
    "df.head()"
   ]
  },
  {
   "cell_type": "code",
   "execution_count": 93,
   "id": "f558b96b-a7b3-4f3a-a889-93f932322587",
   "metadata": {},
   "outputs": [
    {
     "data": {
      "text/plain": [
       "0.25336408094921037"
      ]
     },
     "execution_count": 93,
     "metadata": {},
     "output_type": "execute_result"
    }
   ],
   "source": [
    "mse = np.square(df.Diffrences).mean()\n",
    "mse"
   ]
  },
  {
   "cell_type": "code",
   "execution_count": 94,
   "id": "1f3598e3-7d4d-4df0-bc30-e0491a28b94b",
   "metadata": {},
   "outputs": [
    {
     "data": {
      "text/plain": [
       "0.25336408094921037"
      ]
     },
     "execution_count": 94,
     "metadata": {},
     "output_type": "execute_result"
    }
   ],
   "source": [
    "MSE = mean_squared_error(y_test,y_preds)\n",
    "MSE"
   ]
  },
  {
   "cell_type": "markdown",
   "id": "acf561cf-6f39-4b5f-b0a0-4b4596f32b1d",
   "metadata": {},
   "source": [
    "##### More the value worse the model is 😒 less the value good the model is 😊\n",
    "Which regression metric should you use?\n",
    "\n",
    "R2 is similar to accuracy. It gives you a quick indication of how well your model might be doing. Generally, the closer your R2 value is to 1.0, the better the model. But it doesn't really tell exactly how wrong your model is in terms of how far off each prediction is.\n",
    "\n",
    "MAE gives a better indication of how far off each of your model's predictions are on average.\n",
    "\n",
    "As for MAE or MSE, because of the way MSE is calculated, squaring the differences between predicted values and actual values, it amplifies larger differences. Let's say we're predicting the value of houses (which we are).\n",
    "\n",
    "Pay more attention to MAE: When being  `$10,000`   off is twice as bad as being   `$5,000` off.\n",
    "\n",
    "Pay more attention to MSE: When being `$10,000` off is more than twice as bad as being `$5,000` off."
   ]
  },
  {
   "cell_type": "code",
   "execution_count": null,
   "id": "9d990f91-9629-4e80-b49d-7207eb5a714b",
   "metadata": {},
   "outputs": [],
   "source": []
  }
 ],
 "metadata": {
  "kernelspec": {
   "display_name": "Python 3 (ipykernel)",
   "language": "python",
   "name": "python3"
  },
  "language_info": {
   "codemirror_mode": {
    "name": "ipython",
    "version": 3
   },
   "file_extension": ".py",
   "mimetype": "text/x-python",
   "name": "python",
   "nbconvert_exporter": "python",
   "pygments_lexer": "ipython3",
   "version": "3.12.8"
  }
 },
 "nbformat": 4,
 "nbformat_minor": 5
}
