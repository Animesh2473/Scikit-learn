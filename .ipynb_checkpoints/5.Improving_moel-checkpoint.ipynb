{
 "cells": [
  {
   "cell_type": "code",
   "execution_count": 11,
   "id": "babd4b4f-366d-42f9-bbf1-d6de891bfa4e",
   "metadata": {},
   "outputs": [],
   "source": [
    "import numpy as np\n",
    "import pandas as pd\n",
    "import matplotlib.pyplot as plt"
   ]
  },
  {
   "cell_type": "markdown",
   "id": "6db3f09b-35d2-479a-ac0b-87a4ab181a56",
   "metadata": {},
   "source": [
    "### 5. IMPROVING A MODEL\n",
    "\n",
    "First predictions = baseline prediction\n",
    "Firt model = baseline model\n",
    "\n",
    "From a data perspective:\n",
    "* Could we collect more data ? (genraly, the more data, the better)\n",
    "* Could we improve our data ?\n",
    "\n",
    "From a model perspective:\n",
    "* Is there a better model we could use ?\n",
    "* Could we improve a current model ?\n",
    "\n",
    "Hyperparameaters  V/s Parameaters\n",
    "\n",
    "Parameaters = model finds pattern in data\n",
    "\n",
    "Hyperparameaters = settings on a model you can adjest to (potentially) improve its ability to find patterns\n",
    "\n",
    "Three ways to adjest hyperparameaters:\n",
    "1. By hand\n",
    "2. Randomly with RandomSearchCV\n",
    "3. Exhaustively with GridSearchCV"
   ]
  },
  {
   "cell_type": "markdown",
   "id": "ab21b22c-573d-4338-8b40-c178a634c8dc",
   "metadata": {},
   "source": [
    "### 1. By hand"
   ]
  },
  {
   "cell_type": "markdown",
   "id": "d57709c4-73c2-445c-9c1c-7873c72c2761",
   "metadata": {},
   "source": [
    "A) Classifier"
   ]
  },
  {
   "cell_type": "code",
   "execution_count": 12,
   "id": "c2510052-3c0a-4613-97dd-f33f3d60f0e9",
   "metadata": {},
   "outputs": [],
   "source": [
    "from sklearn.ensemble import RandomForestClassifier\n",
    "clf = RandomForestClassifier()"
   ]
  },
  {
   "cell_type": "code",
   "execution_count": 13,
   "id": "6baa61e9-fab6-4af7-b3b1-72a31d4de921",
   "metadata": {},
   "outputs": [
    {
     "data": {
      "text/plain": [
       "{'bootstrap': True,\n",
       " 'ccp_alpha': 0.0,\n",
       " 'class_weight': None,\n",
       " 'criterion': 'gini',\n",
       " 'max_depth': None,\n",
       " 'max_features': 'sqrt',\n",
       " 'max_leaf_nodes': None,\n",
       " 'max_samples': None,\n",
       " 'min_impurity_decrease': 0.0,\n",
       " 'min_samples_leaf': 1,\n",
       " 'min_samples_split': 2,\n",
       " 'min_weight_fraction_leaf': 0.0,\n",
       " 'monotonic_cst': None,\n",
       " 'n_estimators': 100,\n",
       " 'n_jobs': None,\n",
       " 'oob_score': False,\n",
       " 'random_state': None,\n",
       " 'verbose': 0,\n",
       " 'warm_start': False}"
      ]
     },
     "execution_count": 13,
     "metadata": {},
     "output_type": "execute_result"
    }
   ],
   "source": [
    "clf.get_params()"
   ]
  },
  {
   "cell_type": "markdown",
   "id": "7034bee3-1c05-45f2-9d20-39159c958c45",
   "metadata": {},
   "source": [
    "#### Can learn above functions in link : https://scikit-learn.org/1.5/modules/generated/sklearn.ensemble.RandomForestClassifier.html"
   ]
  },
  {
   "cell_type": "markdown",
   "id": "08d7c932-46cd-4b08-9461-4c60261c05a1",
   "metadata": {},
   "source": [
    "<img src=\"hyper_p_hand.jpg\">"
   ]
  },
  {
   "cell_type": "markdown",
   "id": "03223a80-cc32-4320-9840-6a1111813604",
   "metadata": {},
   "source": [
    "<img src = \"hyper_p_2.jpg\">"
   ]
  },
  {
   "cell_type": "markdown",
   "id": "05865ade-4ef3-41c6-9192-3a160102eafc",
   "metadata": {},
   "source": [
    "### 5.1 Tuning hyperparameters by hand\n",
    "\n",
    "Laet's make 3 sets,traning,validition and test"
   ]
  },
  {
   "cell_type": "code",
   "execution_count": 14,
   "id": "143d7f07-59c0-4d0c-9e16-1e868835197e",
   "metadata": {},
   "outputs": [
    {
     "data": {
      "text/plain": [
       "{'bootstrap': True,\n",
       " 'ccp_alpha': 0.0,\n",
       " 'class_weight': None,\n",
       " 'criterion': 'gini',\n",
       " 'max_depth': None,\n",
       " 'max_features': 'sqrt',\n",
       " 'max_leaf_nodes': None,\n",
       " 'max_samples': None,\n",
       " 'min_impurity_decrease': 0.0,\n",
       " 'min_samples_leaf': 1,\n",
       " 'min_samples_split': 2,\n",
       " 'min_weight_fraction_leaf': 0.0,\n",
       " 'monotonic_cst': None,\n",
       " 'n_estimators': 100,\n",
       " 'n_jobs': None,\n",
       " 'oob_score': False,\n",
       " 'random_state': None,\n",
       " 'verbose': 0,\n",
       " 'warm_start': False}"
      ]
     },
     "execution_count": 14,
     "metadata": {},
     "output_type": "execute_result"
    }
   ],
   "source": [
    "clf.get_params()"
   ]
  },
  {
   "cell_type": "markdown",
   "id": "cafd66bb-df34-48a1-8905-c2c4a929e0f3",
   "metadata": {},
   "source": [
    "we're going to try and adjext:\n",
    "\n",
    "* `max_dept`\n",
    "* `max_features`\n",
    "* `min_samples_leaf`\n",
    "* `min_samples_split`\n",
    "* `n_estimators`"
   ]
  },
  {
   "cell_type": "code",
   "execution_count": 21,
   "id": "d7625004-cc5c-4d54-8880-2992ac008744",
   "metadata": {},
   "outputs": [],
   "source": [
    "from sklearn.metrics import accuracy_score, precision_score, recall_score, f1_score\n",
    "\n",
    "def evaluation_preds(y_true,y_preds):\n",
    "    accuracy = accuracy_score(y_true,y_preds)\n",
    "    recall = recall_score(y_true,y_preds)\n",
    "    precision= precision_score(y_true,y_preds)\n",
    "    f1 = f1_score(y_true,y_preds)\n",
    "\n",
    "    matrics_dict = {\"accuracy\":round(accuracy,2),\n",
    "                    'recall':round(recall,2),\n",
    "                    'precision':round(precision,2),\n",
    "                    'f1':round(f1,2) }\n",
    "    print(f\"Accuracy:{accuracy*100:.2f}%\")\n",
    "    print(f\"Recall:{recall:.2f}\")\n",
    "    print(f\"Presition:{precision:.2f}\")\n",
    "    print(f\"f1:{f1:.2f}\")\n",
    "\n",
    "    return matrics_dict\n",
    "    "
   ]
  },
  {
   "cell_type": "code",
   "execution_count": 22,
   "id": "a92b5581-ae99-41d3-b73b-1aed8c20980f",
   "metadata": {},
   "outputs": [
    {
     "name": "stdout",
     "output_type": "stream",
     "text": [
      "Accuracy:82.22%\n",
      "Recall:0.88\n",
      "Presition:0.81\n",
      "f1:0.85\n"
     ]
    },
    {
     "data": {
      "text/plain": [
       "{'accuracy': 0.82, 'recall': 0.88, 'precision': 0.81, 'f1': 0.85}"
      ]
     },
     "execution_count": 22,
     "metadata": {},
     "output_type": "execute_result"
    }
   ],
   "source": [
    "from sklearn.ensemble import RandomForestClassifier\n",
    "\n",
    "np.random.seed(42)\n",
    "\n",
    "heart_disease = pd.read_csv(\"heart-disease.csv\")\n",
    "\n",
    "\n",
    "#Shuffle the data\n",
    "heart_disease_shuffled = heart_disease.sample(frac=1)\n",
    "\n",
    "x = heart_disease_shuffled.drop(\"target\",axis=1)\n",
    "y = heart_disease_shuffled[\"target\"]\n",
    "\n",
    "train_split = round(0.7*len(heart_disease_shuffled))\n",
    "valid_split = round(train_split + 0.15*len(heart_disease_shuffled))\n",
    "\n",
    "x_train,y_train = x[:train_split],y[:train_split]\n",
    "\n",
    "x_valid,y_valid = x[train_split:valid_split],y[train_split:valid_split]\n",
    "\n",
    "x_test,y_test = x[valid_split:],y[valid_split:]\n",
    "\n",
    "\n",
    "clf = RandomForestClassifier()\n",
    "\n",
    "clf.fit(x_train,y_train)\n",
    "\n",
    "y_preds = clf.predict(x_valid)\n",
    "\n",
    "evaluation_preds(y_valid,y_preds)"
   ]
  },
  {
   "cell_type": "code",
   "execution_count": 23,
   "id": "f5027ac6-5676-419c-a09e-6bfc9d9c4c17",
   "metadata": {},
   "outputs": [
    {
     "name": "stdout",
     "output_type": "stream",
     "text": [
      "Accuracy:82.22%\n",
      "Recall:0.88\n",
      "Presition:0.81\n",
      "f1:0.85\n"
     ]
    },
    {
     "data": {
      "text/plain": [
       "{'accuracy': 0.82, 'recall': 0.88, 'precision': 0.81, 'f1': 0.85}"
      ]
     },
     "execution_count": 23,
     "metadata": {},
     "output_type": "execute_result"
    }
   ],
   "source": [
    "np.random.seed(42)\n",
    "\n",
    "clf2 = RandomForestClassifier(n_estimators=80)\n",
    "clf2.fit(x_train,y_train)\n",
    "y_preds2 = clf2.predict(x_valid)\n",
    "\n",
    "evaluation_preds(y_valid,y_preds)"
   ]
  },
  {
   "cell_type": "code",
   "execution_count": null,
   "id": "9a449573-bd03-45d9-95fe-488676e04c03",
   "metadata": {},
   "outputs": [],
   "source": []
  }
 ],
 "metadata": {
  "kernelspec": {
   "display_name": "Python 3 (ipykernel)",
   "language": "python",
   "name": "python3"
  },
  "language_info": {
   "codemirror_mode": {
    "name": "ipython",
    "version": 3
   },
   "file_extension": ".py",
   "mimetype": "text/x-python",
   "name": "python",
   "nbconvert_exporter": "python",
   "pygments_lexer": "ipython3",
   "version": "3.12.8"
  }
 },
 "nbformat": 4,
 "nbformat_minor": 5
}
